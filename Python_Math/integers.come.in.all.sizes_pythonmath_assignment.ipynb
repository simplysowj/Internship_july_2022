{
 "cells": [
  {
   "cell_type": "code",
   "execution_count": 3,
   "id": "d49c75a2",
   "metadata": {},
   "outputs": [],
   "source": [
    "#Integers Come In All Sizes\n",
    "\n"
   ]
  },
  {
   "cell_type": "code",
   "execution_count": 2,
   "id": "f113ef80",
   "metadata": {},
   "outputs": [
    {
     "name": "stdout",
     "output_type": "stream",
     "text": [
      "enter the value between 1 and 1000   :9\n",
      "enter the value between 1 and 1000   :29\n",
      "enter the value between 1 and 1000   :27\n",
      "enter the value between 1 and 1000   :2\n",
      "4710128697246244834921604418\n"
     ]
    }
   ],
   "source": [
    "a=int(input(\"enter the value between 1 and 1000   :\"))\n",
    "b=int(input(\"enter the value between 1 and 1000   :\"))\n",
    "c=int(input(\"enter the value between 1 and 1000   :\"))\n",
    "d=int(input(\"enter the value between 1 and 1000   :\"))\n",
    "\n",
    "    \n",
    "print((a**b)+(c**d))"
   ]
  },
  {
   "cell_type": "code",
   "execution_count": null,
   "id": "f71c1626",
   "metadata": {},
   "outputs": [],
   "source": []
  }
 ],
 "metadata": {
  "kernelspec": {
   "display_name": "Python 3 (ipykernel)",
   "language": "python",
   "name": "python3"
  },
  "language_info": {
   "codemirror_mode": {
    "name": "ipython",
    "version": 3
   },
   "file_extension": ".py",
   "mimetype": "text/x-python",
   "name": "python",
   "nbconvert_exporter": "python",
   "pygments_lexer": "ipython3",
   "version": "3.9.7"
  }
 },
 "nbformat": 4,
 "nbformat_minor": 5
}
