{
 "cells": [
  {
   "cell_type": "markdown",
   "id": "27a32ad6",
   "metadata": {},
   "source": [
    "Read in two integers a,  and b, and print three lines.\n",
    "The first line is the integer division  a/b\n",
    "The second line is the result of the modulo operator: a%b.\n",
    "The third line prints the divmod of a and b ."
   ]
  },
  {
   "cell_type": "code",
   "execution_count": 1,
   "id": "f407460d",
   "metadata": {},
   "outputs": [
    {
     "name": "stdout",
     "output_type": "stream",
     "text": [
      "177\n",
      "10\n",
      "17\n",
      "7\n",
      "(17, 7)\n"
     ]
    }
   ],
   "source": [
    "a=int(input())\n",
    "b=int(input())\n",
    "print(int(a/b))\n",
    "print(int((a%b)))\n",
    "print(divmod(a,b))"
   ]
  },
  {
   "cell_type": "code",
   "execution_count": null,
   "id": "e45e23e5",
   "metadata": {},
   "outputs": [],
   "source": []
  }
 ],
 "metadata": {
  "kernelspec": {
   "display_name": "Python 3 (ipykernel)",
   "language": "python",
   "name": "python3"
  },
  "language_info": {
   "codemirror_mode": {
    "name": "ipython",
    "version": 3
   },
   "file_extension": ".py",
   "mimetype": "text/x-python",
   "name": "python",
   "nbconvert_exporter": "python",
   "pygments_lexer": "ipython3",
   "version": "3.9.7"
  }
 },
 "nbformat": 4,
 "nbformat_minor": 5
}
