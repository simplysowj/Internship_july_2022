{
 "cells": [
  {
   "cell_type": "code",
   "execution_count": 1,
   "id": "0a32efd4",
   "metadata": {},
   "outputs": [
    {
     "name": "stdout",
     "output_type": "stream",
     "text": [
      "10\n",
      "10\n",
      "45°\n"
     ]
    }
   ],
   "source": [
    "import math\n",
    "\n",
    "AB = int(input())\n",
    "BC = int(input())\n",
    "\n",
    "hypotenuse  = math.sqrt(AB**2 + BC**2)\n",
    "hypotenuse  = hypotenuse /2.0\n",
    "adj = BC/2.0\n",
    "\n",
    "output = int(round(math.degrees(math.acos(adj/hypotenuse ))))\n",
    "\n",
    "output = str(output)\n",
    "\n",
    "print(output+u'\\N{DEGREE SIGN}')"
   ]
  },
  {
   "cell_type": "code",
   "execution_count": null,
   "id": "48d3e4b3",
   "metadata": {},
   "outputs": [],
   "source": []
  }
 ],
 "metadata": {
  "kernelspec": {
   "display_name": "Python 3 (ipykernel)",
   "language": "python",
   "name": "python3"
  },
  "language_info": {
   "codemirror_mode": {
    "name": "ipython",
    "version": 3
   },
   "file_extension": ".py",
   "mimetype": "text/x-python",
   "name": "python",
   "nbconvert_exporter": "python",
   "pygments_lexer": "ipython3",
   "version": "3.9.7"
  }
 },
 "nbformat": 4,
 "nbformat_minor": 5
}
