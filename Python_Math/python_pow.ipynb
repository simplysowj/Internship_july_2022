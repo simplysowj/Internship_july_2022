{
 "cells": [
  {
   "cell_type": "code",
   "execution_count": null,
   "id": "3b10e8d9",
   "metadata": {},
   "outputs": [],
   "source": [
    "You are given three integers: a,b , and m . Print two lines.\n",
    "On the first line, print the result of pow(a,b). On the second line, print the result of pow(a,b,m)."
   ]
  },
  {
   "cell_type": "code",
   "execution_count": 7,
   "id": "d7e79324",
   "metadata": {},
   "outputs": [
    {
     "name": "stdout",
     "output_type": "stream",
     "text": [
      "enter the value between 1 and 10   :3\n",
      "enter the value between 1 and 10   :4\n",
      "enter the 2 and 1000   :5\n",
      "81\n",
      "1\n"
     ]
    }
   ],
   "source": [
    "a=int(input(\"enter the value between 1 and 10   :\"))\n",
    "b=int(input(\"enter the value between 1 and 10   :\"))\n",
    "m=int(input(\"enter the 2 and 1000   :\"))\n",
    "if(1<=a<=10 and 1<=b<=10):\n",
    "    print(pow(a,b))\n",
    "else:\n",
    "    print(\"enter the value between 1 and 10\")\n",
    "    \n",
    "if(2<=m<=1000):\n",
    "    print(pow(a,b,m))\n",
    "else:\n",
    "    print(\"enter the value between 2 and 1000\")\n",
    "    \n"
   ]
  },
  {
   "cell_type": "code",
   "execution_count": null,
   "id": "7dd5956f",
   "metadata": {},
   "outputs": [],
   "source": []
  }
 ],
 "metadata": {
  "kernelspec": {
   "display_name": "Python 3 (ipykernel)",
   "language": "python",
   "name": "python3"
  },
  "language_info": {
   "codemirror_mode": {
    "name": "ipython",
    "version": 3
   },
   "file_extension": ".py",
   "mimetype": "text/x-python",
   "name": "python",
   "nbconvert_exporter": "python",
   "pygments_lexer": "ipython3",
   "version": "3.9.7"
  }
 },
 "nbformat": 4,
 "nbformat_minor": 5
}
