{
 "cells": [
  {
   "cell_type": "markdown",
   "id": "15476341",
   "metadata": {},
   "source": [
    "Task\n",
    "You are given a complex Z Your task is to convert it to polar coordinates."
   ]
  },
  {
   "cell_type": "code",
   "execution_count": 3,
   "id": "2138a446",
   "metadata": {},
   "outputs": [
    {
     "name": "stdout",
     "output_type": "stream",
     "text": [
      "1+2j\n",
      "2.23606797749979\n",
      "1.1071487177940904\n"
     ]
    }
   ],
   "source": [
    "#import cmath for complex number operations \n",
    "import cmath\n",
    "\n",
    "z = complex(input())\n",
    "\n",
    "print (abs(complex(z)))\n",
    "print (cmath.phase(complex(z)))"
   ]
  },
  {
   "cell_type": "code",
   "execution_count": null,
   "id": "baf93631",
   "metadata": {},
   "outputs": [],
   "source": []
  }
 ],
 "metadata": {
  "kernelspec": {
   "display_name": "Python 3 (ipykernel)",
   "language": "python",
   "name": "python3"
  },
  "language_info": {
   "codemirror_mode": {
    "name": "ipython",
    "version": 3
   },
   "file_extension": ".py",
   "mimetype": "text/x-python",
   "name": "python",
   "nbconvert_exporter": "python",
   "pygments_lexer": "ipython3",
   "version": "3.9.7"
  }
 },
 "nbformat": 4,
 "nbformat_minor": 5
}
