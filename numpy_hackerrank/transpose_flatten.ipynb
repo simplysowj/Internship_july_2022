{
 "cells": [
  {
   "cell_type": "markdown",
   "id": "0208f2d9",
   "metadata": {},
   "source": [
    "Your task is to print the transpose and flatten results."
   ]
  },
  {
   "cell_type": "code",
   "execution_count": 1,
   "id": "a9071c0f",
   "metadata": {},
   "outputs": [
    {
     "name": "stdout",
     "output_type": "stream",
     "text": [
      "2 2\n",
      "1 2\n",
      "3 4\n",
      "[[1 3]\n",
      " [2 4]]\n",
      "[1 2 3 4]\n"
     ]
    }
   ],
   "source": [
    "import numpy\n",
    "n,m = map(int,input().split())\n",
    "ar = []\n",
    "for i in range(n):\n",
    "    row = list(map(int,input().split()))\n",
    "    ar.append(row)\n",
    "np_ar = numpy.array(ar)\n",
    "print(numpy.transpose(np_ar))\n",
    "print(np_ar.flatten())"
   ]
  },
  {
   "cell_type": "code",
   "execution_count": null,
   "id": "fd774944",
   "metadata": {},
   "outputs": [],
   "source": []
  }
 ],
 "metadata": {
  "kernelspec": {
   "display_name": "Python 3 (ipykernel)",
   "language": "python",
   "name": "python3"
  },
  "language_info": {
   "codemirror_mode": {
    "name": "ipython",
    "version": 3
   },
   "file_extension": ".py",
   "mimetype": "text/x-python",
   "name": "python",
   "nbconvert_exporter": "python",
   "pygments_lexer": "ipython3",
   "version": "3.9.7"
  }
 },
 "nbformat": 4,
 "nbformat_minor": 5
}
