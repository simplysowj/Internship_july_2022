{
 "cells": [
  {
   "cell_type": "code",
   "execution_count": null,
   "id": "d8888c94",
   "metadata": {},
   "outputs": [],
   "source": [
    "import numpy\n",
    "n,m=map(int,input().split())\n",
    "ar = []\n",
    "for i in range(n):\n",
    "    tmp = list(map(int,input().split()))\n",
    "    ar.append(tmp)\n",
    "np_ar = numpy.array(ar)\n",
    "s = numpy.sum(np_ar,axis=0)\n",
    "print(numpy.prod(s))"
   ]
  }
 ],
 "metadata": {
  "kernelspec": {
   "display_name": "Python 3 (ipykernel)",
   "language": "python",
   "name": "python3"
  },
  "language_info": {
   "codemirror_mode": {
    "name": "ipython",
    "version": 3
   },
   "file_extension": ".py",
   "mimetype": "text/x-python",
   "name": "python",
   "nbconvert_exporter": "python",
   "pygments_lexer": "ipython3",
   "version": "3.9.7"
  }
 },
 "nbformat": 4,
 "nbformat_minor": 5
}
