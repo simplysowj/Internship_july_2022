{
 "cells": [
  {
   "cell_type": "code",
   "execution_count": 2,
   "id": "478729b9",
   "metadata": {},
   "outputs": [
    {
     "name": "stdout",
     "output_type": "stream",
     "text": [
      " 2 2\n",
      "1 2\n",
      "3 4\n",
      "[1.5 3.5]\n",
      "[1. 1.]\n",
      "1.118033988749895\n"
     ]
    }
   ],
   "source": [
    "import numpy\n",
    "N,M = map(int, input().split())\n",
    "l = []\n",
    "for i in range(N):\n",
    "    a = list(map(int, input().split()))\n",
    "    l.append(a)\n",
    "l = numpy.array(l)\n",
    "\n",
    "print(numpy.mean(l, axis = 1))\n",
    "print(numpy.var(l, axis = 0))\n",
    "print(numpy.std(l))"
   ]
  },
  {
   "cell_type": "code",
   "execution_count": null,
   "id": "84faeeed",
   "metadata": {},
   "outputs": [],
   "source": []
  }
 ],
 "metadata": {
  "kernelspec": {
   "display_name": "Python 3 (ipykernel)",
   "language": "python",
   "name": "python3"
  },
  "language_info": {
   "codemirror_mode": {
    "name": "ipython",
    "version": 3
   },
   "file_extension": ".py",
   "mimetype": "text/x-python",
   "name": "python",
   "nbconvert_exporter": "python",
   "pygments_lexer": "ipython3",
   "version": "3.9.7"
  }
 },
 "nbformat": 4,
 "nbformat_minor": 5
}
