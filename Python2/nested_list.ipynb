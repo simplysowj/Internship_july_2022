{
 "cells": [
  {
   "cell_type": "markdown",
   "id": "2dacbc61",
   "metadata": {},
   "source": [
    "Given the names and grades for each student in a class of N students, store them in a nested list and print the name(s) of any student(s) having the second lowest grade."
   ]
  },
  {
   "cell_type": "code",
   "execution_count": 6,
   "id": "4cd6eac8",
   "metadata": {},
   "outputs": [
    {
     "name": "stdout",
     "output_type": "stream",
     "text": [
      "5\n",
      "harry\n",
      "37.21\n",
      "berry\n",
      "37.21\n",
      "tina\n",
      "37.28\n",
      "akriti\n",
      "41\n",
      "df\n",
      "32\n",
      "berry\n",
      "harry\n"
     ]
    }
   ],
   "source": [
    "if __name__ == '__main__':\n",
    "    students = []\n",
    "    scores = []\n",
    "    for N in range(int(input())):\n",
    "        name = input()\n",
    "        score = float(input())\n",
    "        scores.append(score)\n",
    "        students.append([name, score])\n",
    "    \n",
    "        \n",
    "    count = scores.count(min(scores))\n",
    "    for i in range(count):\n",
    "        scores.remove(min(scores))\n",
    "        \n",
    "    secondHigh = min(scores)\n",
    "    \n",
    "    students.sort()\n",
    "    \n",
    "    output = [x for x in students if x[1] == secondHigh]\n",
    "    \n",
    "    for i in output:\n",
    "        \n",
    "            print(i[0])\n",
    "      \n",
    "            \n",
    "        "
   ]
  },
  {
   "cell_type": "markdown",
   "id": "fbdca8e1",
   "metadata": {},
   "source": [
    "#### "
   ]
  }
 ],
 "metadata": {
  "kernelspec": {
   "display_name": "Python 3 (ipykernel)",
   "language": "python",
   "name": "python3"
  },
  "language_info": {
   "codemirror_mode": {
    "name": "ipython",
    "version": 3
   },
   "file_extension": ".py",
   "mimetype": "text/x-python",
   "name": "python",
   "nbconvert_exporter": "python",
   "pygments_lexer": "ipython3",
   "version": "3.9.7"
  }
 },
 "nbformat": 4,
 "nbformat_minor": 5
}
