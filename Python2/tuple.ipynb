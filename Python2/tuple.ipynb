{
 "cells": [
  {
   "cell_type": "markdown",
   "id": "e4d39842",
   "metadata": {},
   "source": [
    "Task:\n",
    "       Given an integer, n, and n space-separated integers as input, create a tuple, t, of those n integers. Then compute and print the result of hash(t)."
   ]
  },
  {
   "cell_type": "code",
   "execution_count": 7,
   "id": "29649fb2",
   "metadata": {},
   "outputs": [
    {
     "name": "stdout",
     "output_type": "stream",
     "text": [
      "3\n",
      "3\n",
      "-5029647727744300836\n"
     ]
    }
   ],
   "source": [
    "if __name__ == '__main__':\n",
    "    n = int(input())\n",
    "    integer_list = map(int, input().split())\n",
    "    tuple_1=tuple((integer_list))\n",
    "    print(hash(tuple_1))"
   ]
  },
  {
   "cell_type": "code",
   "execution_count": null,
   "id": "0f1af191",
   "metadata": {},
   "outputs": [],
   "source": []
  }
 ],
 "metadata": {
  "kernelspec": {
   "display_name": "Python 3 (ipykernel)",
   "language": "python",
   "name": "python3"
  },
  "language_info": {
   "codemirror_mode": {
    "name": "ipython",
    "version": 3
   },
   "file_extension": ".py",
   "mimetype": "text/x-python",
   "name": "python",
   "nbconvert_exporter": "python",
   "pygments_lexer": "ipython3",
   "version": "3.9.7"
  }
 },
 "nbformat": 4,
 "nbformat_minor": 5
}
