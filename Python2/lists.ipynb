{
 "cells": [
  {
   "cell_type": "markdown",
   "id": "0081e5b2",
   "metadata": {},
   "source": [
    "Consider a list (list = []). You can perform the following commands:\n",
    "\n",
    "     1. insert i e: Insert integer e at position i.\n",
    "     2. print: Print the list.\n",
    "     3. remove e: Delete the first occurrence of integer e .\n",
    "     4. append e: Insert integer e at the end of the list. \n",
    "     5. sort: Sort the list.\n",
    "     6. pop: Pop the last element from the list.\n",
    "     7. reverse: Reverse the list"
   ]
  },
  {
   "cell_type": "code",
   "execution_count": 4,
   "id": "421970c7",
   "metadata": {},
   "outputs": [
    {
     "name": "stdout",
     "output_type": "stream",
     "text": [
      "12\n",
      "insert 0 6\n",
      "insert 0 9\n",
      "insert 0 8\n",
      "print\n",
      "remove 6\n",
      "remove 9\n",
      "remove 8\n",
      "print\n",
      "pop\n",
      "sort\n",
      "print\n",
      "reverse\n",
      "[8, 9, 6]\n",
      "6\n",
      "9\n",
      "8\n",
      "[]\n"
     ]
    },
    {
     "ename": "IndexError",
     "evalue": "pop from empty list",
     "output_type": "error",
     "traceback": [
      "\u001b[1;31m---------------------------------------------------------------------------\u001b[0m",
      "\u001b[1;31mIndexError\u001b[0m                                Traceback (most recent call last)",
      "\u001b[1;32m~\\AppData\\Local\\Temp/ipykernel_27312/9158822.py\u001b[0m in \u001b[0;36m<module>\u001b[1;34m\u001b[0m\n\u001b[0;32m     18\u001b[0m             \u001b[0mresult\u001b[0m\u001b[1;33m.\u001b[0m\u001b[0msort\u001b[0m\u001b[1;33m(\u001b[0m\u001b[1;33m)\u001b[0m\u001b[1;33m\u001b[0m\u001b[1;33m\u001b[0m\u001b[0m\n\u001b[0;32m     19\u001b[0m         \u001b[1;32melif\u001b[0m \u001b[0mlist_1\u001b[0m\u001b[1;33m[\u001b[0m\u001b[0mi\u001b[0m\u001b[1;33m]\u001b[0m\u001b[1;33m[\u001b[0m\u001b[1;36m0\u001b[0m\u001b[1;33m]\u001b[0m\u001b[1;33m==\u001b[0m\u001b[1;34m'pop'\u001b[0m\u001b[1;33m:\u001b[0m\u001b[1;33m\u001b[0m\u001b[1;33m\u001b[0m\u001b[0m\n\u001b[1;32m---> 20\u001b[1;33m             \u001b[0mresult\u001b[0m\u001b[1;33m.\u001b[0m\u001b[0mpop\u001b[0m\u001b[1;33m(\u001b[0m\u001b[1;33m)\u001b[0m\u001b[1;33m\u001b[0m\u001b[1;33m\u001b[0m\u001b[0m\n\u001b[0m\u001b[0;32m     21\u001b[0m         \u001b[1;32melif\u001b[0m \u001b[0mlist_1\u001b[0m\u001b[1;33m[\u001b[0m\u001b[0mi\u001b[0m\u001b[1;33m]\u001b[0m\u001b[1;33m[\u001b[0m\u001b[1;36m0\u001b[0m\u001b[1;33m]\u001b[0m\u001b[1;33m==\u001b[0m\u001b[1;34m'reverse'\u001b[0m\u001b[1;33m:\u001b[0m\u001b[1;33m\u001b[0m\u001b[1;33m\u001b[0m\u001b[0m\n\u001b[0;32m     22\u001b[0m             \u001b[0mresult\u001b[0m\u001b[1;33m.\u001b[0m\u001b[0mreverse\u001b[0m\u001b[1;33m(\u001b[0m\u001b[1;33m)\u001b[0m\u001b[1;33m\u001b[0m\u001b[1;33m\u001b[0m\u001b[0m\n",
      "\u001b[1;31mIndexError\u001b[0m: pop from empty list"
     ]
    }
   ],
   "source": [
    "if __name__ == '__main__':\n",
    "    N = int(input())\n",
    "    list_1=[]\n",
    "    for i in range(N):\n",
    "        list_1.append(input().split())\n",
    "    result=[]\n",
    "    for i in range(N):\n",
    "        if list_1[i][0]=='insert':\n",
    "            result.insert(int(list_1[i][1]),int(list_1[i][2]))\n",
    "        elif list_1[i][0]=='print':\n",
    "            print(result)\n",
    "        elif list_1[i][0]=='remove':\n",
    "            print(list_1[i][1])\n",
    "            result.remove(int(list_1[i][1]))\n",
    "        elif list_1[i][0]=='append':\n",
    "            result.append(int(list_1[i][1]))\n",
    "        elif list_1[i][0]=='sort':\n",
    "            result.sort()\n",
    "        elif list_1[i][0]=='pop':\n",
    "            result.pop()        \n",
    "        elif list_1[i][0]=='reverse':\n",
    "            result.reverse()\n",
    "                        \n",
    "\n",
    "\n"
   ]
  },
  {
   "cell_type": "code",
   "execution_count": null,
   "id": "8129ade3",
   "metadata": {},
   "outputs": [],
   "source": []
  }
 ],
 "metadata": {
  "kernelspec": {
   "display_name": "Python 3 (ipykernel)",
   "language": "python",
   "name": "python3"
  },
  "language_info": {
   "codemirror_mode": {
    "name": "ipython",
    "version": 3
   },
   "file_extension": ".py",
   "mimetype": "text/x-python",
   "name": "python",
   "nbconvert_exporter": "python",
   "pygments_lexer": "ipython3",
   "version": "3.9.7"
  }
 },
 "nbformat": 4,
 "nbformat_minor": 5
}
