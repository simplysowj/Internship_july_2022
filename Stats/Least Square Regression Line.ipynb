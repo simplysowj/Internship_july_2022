{
 "cells": [
  {
   "cell_type": "code",
   "execution_count": null,
   "id": "99a74823",
   "metadata": {},
   "outputs": [],
   "source": [
    "import statistics as st\n",
    "\n",
    "# Set data\n",
    "n = 5\n",
    "x = [95, 85, 80, 70, 60]\n",
    "y = [85, 95, 70, 65, 70]\n",
    "mean_x = st.mean(x)\n",
    "mean_y = st.mean(y)\n",
    "x_squared = sum([x[i] ** 2 for i in range(5)])\n",
    "xy = sum([x[i]*y[i] for i in range(5)])\n",
    "\n",
    "# Set the B and A\n",
    "b = (n * xy - sum(x) * sum(y)) / (n * x_squared - (sum(x) ** 2))\n",
    "a = mean_y - b * mean_x\n",
    "\n",
    "# Gets the result and show on the screen\n",
    "print (round(a + 80 * b, 3))"
   ]
  },
  {
   "cell_type": "code",
   "execution_count": null,
   "id": "ff9455fe",
   "metadata": {},
   "outputs": [],
   "source": []
  },
  {
   "cell_type": "code",
   "execution_count": null,
   "id": "fc6f6a9f",
   "metadata": {},
   "outputs": [],
   "source": []
  }
 ],
 "metadata": {
  "kernelspec": {
   "display_name": "Python 3 (ipykernel)",
   "language": "python",
   "name": "python3"
  },
  "language_info": {
   "codemirror_mode": {
    "name": "ipython",
    "version": 3
   },
   "file_extension": ".py",
   "mimetype": "text/x-python",
   "name": "python",
   "nbconvert_exporter": "python",
   "pygments_lexer": "ipython3",
   "version": "3.9.7"
  }
 },
 "nbformat": 4,
 "nbformat_minor": 5
}
