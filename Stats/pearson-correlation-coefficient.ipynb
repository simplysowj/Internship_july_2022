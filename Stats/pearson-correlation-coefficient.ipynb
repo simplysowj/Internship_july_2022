{
 "cells": [
  {
   "cell_type": "code",
   "execution_count": 1,
   "id": "2270cf94",
   "metadata": {},
   "outputs": [
    {
     "name": "stdout",
     "output_type": "stream",
     "text": [
      "10\n",
      "10 9.8 8 7.8 7.7 7 6 5 4 2 \n",
      "200 44 32 24 22 17 15 12 8 4\n",
      "0.612\n"
     ]
    }
   ],
   "source": [
    "# import libraries\n",
    "import statistics as st\n",
    "\n",
    "# define function to Pearson correlation coefficient\n",
    "def correlation_coefficient(n, dt_x, dt_y):\n",
    "    mean_x = st.mean(dt_x)\n",
    "    mean_y = st.mean(dt_y)\n",
    "    std_x = st.pstdev(dt_x)\n",
    "    std_y = st.pstdev(dt_y)\n",
    "    c = 0\n",
    "    for i in range(n):\n",
    "        c = c + (dt_x[i] - mean_x) * (dt_y[i] - mean_y)\n",
    "    return c / (n * std_x * std_y)\n",
    "\n",
    "# Set data\n",
    "n = int(float(input()))\n",
    "data_set_x = list(map(float, input().split()))\n",
    "data_set_y = list(map(float, input().split()))\n",
    "\n",
    "# Gets the result and show on the screen\n",
    "print (round(correlation_coefficient(n, data_set_x, data_set_y), 3))"
   ]
  }
 ],
 "metadata": {
  "kernelspec": {
   "display_name": "Python 3 (ipykernel)",
   "language": "python",
   "name": "python3"
  },
  "language_info": {
   "codemirror_mode": {
    "name": "ipython",
    "version": 3
   },
   "file_extension": ".py",
   "mimetype": "text/x-python",
   "name": "python",
   "nbconvert_exporter": "python",
   "pygments_lexer": "ipython3",
   "version": "3.9.7"
  }
 },
 "nbformat": 4,
 "nbformat_minor": 5
}
