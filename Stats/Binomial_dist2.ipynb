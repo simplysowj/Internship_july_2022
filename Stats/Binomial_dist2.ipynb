{
 "cells": [
  {
   "cell_type": "code",
   "execution_count": 1,
   "id": "e19583d2",
   "metadata": {},
   "outputs": [
    {
     "name": "stdout",
     "output_type": "stream",
     "text": [
      "12 10\n",
      "0.891\n",
      "0.342\n"
     ]
    }
   ],
   "source": [
    "def factorial(n):\n",
    "    if n == 1 or n == 0:\n",
    "        return 1\n",
    "    if n > 1:\n",
    "        return factorial(n - 1) * n\n",
    "\n",
    "def binomial(x, n, p):\n",
    "    f = factorial(n) / (factorial(n - x) * factorial(x))\n",
    "    return (f * p**x * (1.0 - p)**(n-x))\n",
    "\n",
    "# Set data\n",
    "values = list(map(float, input().split()))\n",
    "p = (values[0] / 100)\n",
    "n = int(values[1])\n",
    "\n",
    "# First rule: No more than 2 rejects\n",
    "no_more_than_2_rejects = 0\n",
    "for i in range(n):\n",
    "    if i < 3:\n",
    "        no_more_than_2_rejects = no_more_than_2_rejects + binomial(i, n, p)\n",
    "print(round(no_more_than_2_rejects, 3))\n",
    "\n",
    "# Second rule: At least 2 rejects\n",
    "at_least_2_rejects = 0\n",
    "for i in range(n):\n",
    "    if i > 1:\n",
    "        at_least_2_rejects = at_least_2_rejects + binomial(i, n, p)\n",
    "print(round(at_least_2_rejects, 3))"
   ]
  },
  {
   "cell_type": "code",
   "execution_count": null,
   "id": "8b3f839a",
   "metadata": {},
   "outputs": [],
   "source": []
  }
 ],
 "metadata": {
  "kernelspec": {
   "display_name": "Python 3 (ipykernel)",
   "language": "python",
   "name": "python3"
  },
  "language_info": {
   "codemirror_mode": {
    "name": "ipython",
    "version": 3
   },
   "file_extension": ".py",
   "mimetype": "text/x-python",
   "name": "python",
   "nbconvert_exporter": "python",
   "pygments_lexer": "ipython3",
   "version": "3.9.7"
  }
 },
 "nbformat": 4,
 "nbformat_minor": 5
}
